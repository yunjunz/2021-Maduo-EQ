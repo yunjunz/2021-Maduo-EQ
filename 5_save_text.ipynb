{
 "cells": [
  {
   "cell_type": "markdown",
   "id": "2c3a03d7",
   "metadata": {},
   "source": [
    "## Prepare SAR offset results from HDF5/GeoTIFF to text for UCLA group"
   ]
  },
  {
   "cell_type": "code",
   "execution_count": 28,
   "id": "418723df",
   "metadata": {},
   "outputs": [
    {
     "name": "stdout",
     "output_type": "stream",
     "text": [
      "Go to directory: /Users/yunjunz/data/archives/2021MadoiEQ/offset4MadoiEQ\n"
     ]
    }
   ],
   "source": [
    "%matplotlib inline\n",
    "import os\n",
    "import numpy as np\n",
    "from matplotlib import pyplot as plt\n",
    "from mintpy.utils import readfile, writefile, plot as pp, isce_utils, utils as ut\n",
    "plt.rcParams.update({'font.size': 12})\n",
    "\n",
    "work_dir = os.path.expanduser('~/data/archives/2021MadoiEQ/offset4MadoiEQ')\n",
    "os.chdir(work_dir)\n",
    "print('Go to directory:', work_dir)\n",
    "\n",
    "fnames = [\n",
    "    os.path.join(work_dir, 'rdr/S1A099_20210520_20210526_rgOff.h5'),\n",
    "    os.path.join(work_dir, 'rdr/S1A099_20210520_20210526_azOffCor.h5'),\n",
    "    os.path.join(work_dir, 'rdr/S1D106_20210520_20210526_rgOff.h5'),\n",
    "    os.path.join(work_dir, 'rdr/S1D106_20210520_20210526_azOffCorFilt.h5'),\n",
    "]"
   ]
  },
  {
   "cell_type": "code",
   "execution_count": 30,
   "id": "480bd0d7",
   "metadata": {},
   "outputs": [
    {
     "name": "stdout",
     "output_type": "stream",
     "text": [
      "--------------------------------------------------\n",
      "reading /Users/yunjunz/data/archives/2021MadoiEQ/offset4MadoiEQ/rdr/S1A099_20210520_20210526_rgOff.h5\n",
      "num of points: 9139246\n",
      "writing to text file: /Users/yunjunz/data/archives/2021MadoiEQ/offset4MadoiEQ/rdr/S1A099_20210520_20210526_rgOff.txt\n",
      "finished writing.\n",
      "--------------------------------------------------\n",
      "reading /Users/yunjunz/data/archives/2021MadoiEQ/offset4MadoiEQ/rdr/S1A099_20210520_20210526_azOffCor.h5\n",
      "num of points: 1785379\n"
     ]
    },
    {
     "name": "stderr",
     "output_type": "stream",
     "text": [
      "/Users/yunjunz/tools/miniconda3/envs/insar/lib/python3.7/site-packages/ipykernel_launcher.py:23: RuntimeWarning: invalid value encountered in sin\n",
      "/Users/yunjunz/tools/miniconda3/envs/insar/lib/python3.7/site-packages/ipykernel_launcher.py:24: RuntimeWarning: invalid value encountered in cos\n"
     ]
    },
    {
     "name": "stdout",
     "output_type": "stream",
     "text": [
      "writing to text file: /Users/yunjunz/data/archives/2021MadoiEQ/offset4MadoiEQ/rdr/S1A099_20210520_20210526_azOffCor.txt\n",
      "finished writing.\n",
      "--------------------------------------------------\n",
      "reading /Users/yunjunz/data/archives/2021MadoiEQ/offset4MadoiEQ/rdr/S1D106_20210520_20210526_rgOff.h5\n",
      "num of points: 9070445\n"
     ]
    },
    {
     "name": "stderr",
     "output_type": "stream",
     "text": [
      "/Users/yunjunz/tools/miniconda3/envs/insar/lib/python3.7/site-packages/ipykernel_launcher.py:18: RuntimeWarning: invalid value encountered in sin\n",
      "/Users/yunjunz/tools/miniconda3/envs/insar/lib/python3.7/site-packages/ipykernel_launcher.py:19: RuntimeWarning: invalid value encountered in sin\n",
      "/Users/yunjunz/tools/miniconda3/envs/insar/lib/python3.7/site-packages/ipykernel_launcher.py:19: RuntimeWarning: invalid value encountered in cos\n",
      "/Users/yunjunz/tools/miniconda3/envs/insar/lib/python3.7/site-packages/ipykernel_launcher.py:20: RuntimeWarning: invalid value encountered in cos\n"
     ]
    },
    {
     "name": "stdout",
     "output_type": "stream",
     "text": [
      "writing to text file: /Users/yunjunz/data/archives/2021MadoiEQ/offset4MadoiEQ/rdr/S1D106_20210520_20210526_rgOff.txt\n",
      "finished writing.\n",
      "--------------------------------------------------\n",
      "reading /Users/yunjunz/data/archives/2021MadoiEQ/offset4MadoiEQ/rdr/S1D106_20210520_20210526_azOffCorFilt.h5\n",
      "num of points: 1628546\n",
      "writing to text file: /Users/yunjunz/data/archives/2021MadoiEQ/offset4MadoiEQ/rdr/S1D106_20210520_20210526_azOffCorFilt.txt\n",
      "finished writing.\n"
     ]
    }
   ],
   "source": [
    "for fname in fnames:\n",
    "    out_file = os.path.splitext(fname)[0]+'.txt'\n",
    "    print('-'*50)\n",
    "    print('reading {}'.format(fname))\n",
    "    atr = readfile.read_attribute(fname)\n",
    "    dis = readfile.read(fname, datasetName='displacement')[0]\n",
    "    mask = ~np.isnan(dis)\n",
    "    dis = dis[mask]\n",
    "    print('num of points: {}'.format(np.sum(mask)))\n",
    "\n",
    "    lat = readfile.read(fname, datasetName='latitude')[0][mask]\n",
    "    lon = readfile.read(fname, datasetName='longitude')[0][mask]\n",
    "    dis_std   = readfile.read(fname, datasetName='displacementStd')[0][mask]\n",
    "    inc_angle = readfile.read(fname, datasetName='incidenceAngle')[0][mask] * np.pi / 180.\n",
    "    az_angle  = readfile.read(fname, datasetName='azimuthAngle')[0][mask] * np.pi / 180.\n",
    "    if 'rgOff' in os.path.basename(fname):\n",
    "        # unit vector for range offset [positive for motion away from satellite]\n",
    "        ve = np.sin(inc_angle) * np.sin(az_angle)\n",
    "        vn = np.sin(inc_angle) * np.cos(az_angle) * -1\n",
    "        vz = np.cos(inc_angle) * -1\n",
    "    else:\n",
    "        # unit vector for azimuth offset [positive for motion same as flight]\n",
    "        ve = np.sin(az_angle)\n",
    "        vn = np.cos(az_angle) * -1\n",
    "        vz = np.zeros(az_angle.shape, dtype=np.float32)\n",
    "\n",
    "    # write to text file\n",
    "    header =  'number of points: {}\\n'.format(np.sum(mask))\n",
    "    header += 'latitude       longitude    displacement[m]        Vz              Vn              Ve     displacement_std [m]'\n",
    "    data = np.hstack((\n",
    "        lat.reshape(-1, 1),\n",
    "        lon.reshape(-1, 1),\n",
    "        dis.reshape(-1, 1),\n",
    "        vz.reshape(-1, 1),\n",
    "        vn.reshape(-1, 1),\n",
    "        ve.reshape(-1, 1),\n",
    "        dis_std.reshape(-1, 1),\n",
    "    ))\n",
    "    print('writing to text file: {}'.format(out_file))\n",
    "    np.savetxt(out_file, data, fmt='%10.6f', delimiter='\\t', header=header)\n",
    "    print('finished writing.')"
   ]
  },
  {
   "cell_type": "code",
   "execution_count": null,
   "id": "1bb7d90e",
   "metadata": {},
   "outputs": [],
   "source": []
  }
 ],
 "metadata": {
  "kernelspec": {
   "display_name": "Python 3 (ipykernel)",
   "language": "python",
   "name": "python3"
  },
  "language_info": {
   "codemirror_mode": {
    "name": "ipython",
    "version": 3
   },
   "file_extension": ".py",
   "mimetype": "text/x-python",
   "name": "python",
   "nbconvert_exporter": "python",
   "pygments_lexer": "ipython3",
   "version": "3.8.12"
  }
 },
 "nbformat": 4,
 "nbformat_minor": 5
}
